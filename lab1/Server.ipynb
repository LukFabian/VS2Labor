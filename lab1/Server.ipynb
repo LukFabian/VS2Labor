{
 "cells": [
  {
   "cell_type": "markdown",
   "metadata": {},
   "source": [
    "# Running server and client in separate notebooks - server part\n",
    "This is the first notebook we need to run in this constelation. Note that the client notebook needs to be run now in a separate window."
   ]
  },
  {
   "cell_type": "code",
   "execution_count": 1,
   "metadata": {
    "ExecuteTime": {
     "end_time": "2024-11-02T11:25:43.713615283Z",
     "start_time": "2024-11-02T11:25:05.055510822Z"
    }
   },
   "outputs": [
    {
     "name": "stderr",
     "output_type": "stream",
     "text": [
      "2024-11-02 12:25:05,079 - vs2lab.lab1.clientserver.Server - INFO - Server bound to socket <socket.socket fd=55, family=AddressFamily.AF_INET, type=SocketKind.SOCK_STREAM, proto=0, laddr=('127.0.0.1', 50007)>\n"
     ]
    },
    {
     "name": "stdout",
     "output_type": "stream",
     "text": [
      "GETALL called\n"
     ]
    },
    {
     "ename": "BrokenPipeError",
     "evalue": "[Errno 32] Broken pipe",
     "output_type": "error",
     "traceback": [
      "\u001B[0;31m---------------------------------------------------------------------------\u001B[0m",
      "\u001B[0;31mBrokenPipeError\u001B[0m                           Traceback (most recent call last)",
      "Cell \u001B[0;32mIn[1], line 5\u001B[0m\n\u001B[1;32m      1\u001B[0m \u001B[38;5;28;01mimport\u001B[39;00m \u001B[38;5;21;01mclientserver\u001B[39;00m \u001B[38;5;66;03m# import from our script\u001B[39;00m\n\u001B[1;32m      3\u001B[0m server \u001B[38;5;241m=\u001B[39m clientserver\u001B[38;5;241m.\u001B[39mServer() \u001B[38;5;66;03m# Create a server instance\u001B[39;00m\n\u001B[0;32m----> 5\u001B[0m \u001B[43mserver\u001B[49m\u001B[38;5;241;43m.\u001B[39;49m\u001B[43mserve\u001B[49m\u001B[43m(\u001B[49m\u001B[43m)\u001B[49m \u001B[38;5;66;03m# start server routine in the forked process\u001B[39;00m\n",
      "File \u001B[0;32m~/Hochschule/vs2lab/lab1/clientserver.py:50\u001B[0m, in \u001B[0;36mServer.serve\u001B[0;34m(self)\u001B[0m\n\u001B[1;32m     48\u001B[0m         \u001B[38;5;28;01melse\u001B[39;00m:\n\u001B[1;32m     49\u001B[0m             response \u001B[38;5;241m=\u001B[39m \u001B[38;5;124m\"\u001B[39m\u001B[38;5;124mERROR: Invalid command\u001B[39m\u001B[38;5;124m\"\u001B[39m\n\u001B[0;32m---> 50\u001B[0m         \u001B[43mconnection\u001B[49m\u001B[38;5;241;43m.\u001B[39;49m\u001B[43msend\u001B[49m\u001B[43m(\u001B[49m\u001B[43mresponse\u001B[49m\u001B[38;5;241;43m.\u001B[39;49m\u001B[43mencode\u001B[49m\u001B[43m(\u001B[49m\u001B[38;5;124;43m'\u001B[39;49m\u001B[38;5;124;43mutf-8\u001B[39;49m\u001B[38;5;124;43m'\u001B[39;49m\u001B[43m)\u001B[49m\u001B[43m)\u001B[49m\n\u001B[1;32m     51\u001B[0m \u001B[38;5;28;01mexcept\u001B[39;00m socket\u001B[38;5;241m.\u001B[39mtimeout:\n\u001B[1;32m     52\u001B[0m     \u001B[38;5;28;01mcontinue\u001B[39;00m\n",
      "\u001B[0;31mBrokenPipeError\u001B[0m: [Errno 32] Broken pipe"
     ]
    }
   ],
   "source": [
    "import clientserver # import from our script\n",
    "\n",
    "server = clientserver.Server() # Create a server instance\n",
    "\n",
    "server.serve() # start server routine in the forked process"
   ]
  },
  {
   "cell_type": "markdown",
   "metadata": {},
   "source": [
    "Finished"
   ]
  }
 ],
 "metadata": {
  "kernelspec": {
   "display_name": "Python 3",
   "language": "python",
   "name": "python3"
  },
  "language_info": {
   "codemirror_mode": {
    "name": "ipython",
    "version": 3
   },
   "file_extension": ".py",
   "mimetype": "text/x-python",
   "name": "python",
   "nbconvert_exporter": "python",
   "pygments_lexer": "ipython3",
   "version": "3.10.2"
  }
 },
 "nbformat": 4,
 "nbformat_minor": 2
}
