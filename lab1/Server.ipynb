{
 "cells": [
  {
   "cell_type": "markdown",
   "metadata": {},
   "source": [
    "# Running server and client in separate notebooks - server part\n",
    "This is the first notebook we need to run in this constelation. Note that the client notebook needs to be run now in a separate window."
   ]
  },
  {
   "metadata": {},
   "cell_type": "code",
   "outputs": [],
   "execution_count": null,
   "source": ""
  },
  {
   "cell_type": "markdown",
   "source": [
    "Imports the clientserver module, which contains the Server class. The Server class handles requests from clients and manages an in-memory telephone directory."
   ],
   "metadata": {
    "collapsed": false
   }
  },
  {
   "cell_type": "code",
   "metadata": {
    "ExecuteTime": {
     "end_time": "2024-11-07T13:38:11.236380Z",
     "start_time": "2024-11-07T13:38:11.165101Z"
    }
   },
   "source": [
    "import clientserver"
   ],
   "outputs": [],
   "execution_count": 1
  },
  {
   "cell_type": "markdown",
   "source": [
    "Creates an instance of the Server class, initializing the server’s socket and binding it to a specified port. The server also sets up an in-memory telephone directory with initial entries and logs that it is bound to the socket."
   ],
   "metadata": {
    "collapsed": false
   }
  },
  {
   "cell_type": "code",
   "source": [
    "server = clientserver.Server() # Create a server instance"
   ],
   "metadata": {
    "collapsed": false,
    "ExecuteTime": {
     "end_time": "2024-11-07T13:38:11.247510Z",
     "start_time": "2024-11-07T13:38:11.239758Z"
    }
   },
   "outputs": [
    {
     "name": "stderr",
     "output_type": "stream",
     "text": [
      "2024-11-07 14:38:11,242 - vs2lab.lab1.clientserver.Server - INFO - Server bound to socket <socket.socket fd=56, family=2, type=1, proto=0, laddr=('127.0.0.1', 50007)>\n"
     ]
    }
   ],
   "execution_count": 2
  },
  {
   "cell_type": "markdown",
   "source": [
    "Starts the server’s main loop, allowing it to listen for incoming client connections. When a client connects, the server processes requests such as GET (to retrieve specific entries) and GETALL (to retrieve all entries). The loop continues until the server is stopped."
   ],
   "metadata": {
    "collapsed": false
   }
  },
  {
   "cell_type": "code",
   "source": [
    "server.serve() # start server routine in the forked process"
   ],
   "metadata": {
    "collapsed": false,
    "jupyter": {
     "is_executing": true
    },
    "ExecuteTime": {
     "start_time": "2024-11-07T13:38:11.250144Z"
    }
   },
   "outputs": [
    {
     "name": "stderr",
     "output_type": "stream",
     "text": [
      "2024-11-07 14:38:14,255 - vs2lab.lab1.clientserver.Server - INFO - Connection timed out.\n",
      "2024-11-07 14:38:17,259 - vs2lab.lab1.clientserver.Server - INFO - Connection timed out.\n",
      "2024-11-07 14:38:20,264 - vs2lab.lab1.clientserver.Server - INFO - Connection timed out.\n"
     ]
    }
   ],
   "execution_count": null
  },
  {
   "cell_type": "markdown",
   "metadata": {},
   "source": [
    "Finished"
   ]
  }
 ],
 "metadata": {
  "kernelspec": {
   "display_name": "Python 3",
   "language": "python",
   "name": "python3"
  },
  "language_info": {
   "codemirror_mode": {
    "name": "ipython",
    "version": 3
   },
   "file_extension": ".py",
   "mimetype": "text/x-python",
   "name": "python",
   "nbconvert_exporter": "python",
   "pygments_lexer": "ipython3",
   "version": "3.10.2"
  }
 },
 "nbformat": 4,
 "nbformat_minor": 2
}
