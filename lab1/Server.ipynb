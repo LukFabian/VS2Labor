{
 "cells": [
  {
   "cell_type": "markdown",
   "metadata": {},
   "source": [
    "# Running server and client in separate notebooks - server part\n",
    "This is the first notebook we need to run in this constelation. Note that the client notebook needs to be run now in a separate window."
   ]
  },
  {
   "cell_type": "markdown",
   "source": [
    "Imports the clientserver module, which contains the Server class. The Server class handles requests from clients and manages an in-memory telephone directory."
   ],
   "metadata": {
    "collapsed": false
   }
  },
  {
   "cell_type": "code",
   "execution_count": null,
   "metadata": {},
   "outputs": [],
   "source": [
    "import clientserver"
   ]
  },
  {
   "cell_type": "markdown",
   "source": [
    "Creates an instance of the Server class, initializing the server’s socket and binding it to a specified port. The server also sets up an in-memory telephone directory with initial entries and logs that it is bound to the socket."
   ],
   "metadata": {
    "collapsed": false
   }
  },
  {
   "cell_type": "code",
   "execution_count": null,
   "outputs": [],
   "source": [
    "server = clientserver.Server() # Create a server instance"
   ],
   "metadata": {
    "collapsed": false
   }
  },
  {
   "cell_type": "markdown",
   "source": [
    "Starts the server’s main loop, allowing it to listen for incoming client connections. When a client connects, the server processes requests such as GET (to retrieve specific entries) and GETALL (to retrieve all entries). The loop continues until the server is stopped."
   ],
   "metadata": {
    "collapsed": false
   }
  },
  {
   "cell_type": "code",
   "execution_count": null,
   "outputs": [],
   "source": [
    "server.serve() # start server routine in the forked process"
   ],
   "metadata": {
    "collapsed": false
   }
  },
  {
   "cell_type": "markdown",
   "metadata": {},
   "source": [
    "Finished"
   ]
  }
 ],
 "metadata": {
  "kernelspec": {
   "display_name": "Python 3",
   "language": "python",
   "name": "python3"
  },
  "language_info": {
   "codemirror_mode": {
    "name": "ipython",
    "version": 3
   },
   "file_extension": ".py",
   "mimetype": "text/x-python",
   "name": "python",
   "nbconvert_exporter": "python",
   "pygments_lexer": "ipython3",
   "version": "3.10.2"
  }
 },
 "nbformat": 4,
 "nbformat_minor": 2
}
