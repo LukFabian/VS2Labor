{
 "cells": [
  {
   "cell_type": "markdown",
   "metadata": {},
   "source": [
    "# Running server and client in separate notebooks - client part\n",
    "\n",
    "Here we start the client. The server needs to be started first. Lets go...."
   ]
  },
  {
   "cell_type": "code",
   "execution_count": 7,
   "metadata": {
    "ExecuteTime": {
     "end_time": "2024-11-02T11:25:43.586044107Z",
     "start_time": "2024-11-02T11:25:43.544579287Z"
    }
   },
   "outputs": [
    {
     "name": "stderr",
     "output_type": "stream",
     "text": [
      "2024-11-02 12:25:43,543 - vs2lab.a1_layers.clientserver.Client - INFO - Client connected to socket <socket.socket fd=58, family=AddressFamily.AF_INET, type=SocketKind.SOCK_STREAM, proto=0, laddr=('127.0.0.1', 37154), raddr=('127.0.0.1', 50007)>\n",
      "2024-11-02 12:25:43,545 - vs2lab.a1_layers.clientserver.Client - INFO - Client down.\n"
     ]
    },
    {
     "name": "stdout",
     "output_type": "stream",
     "text": [
      "Testing GET method:\n",
      "Alpha:1234567890\n",
      "\n",
      "Testing GETALL method:\n",
      "Alpha:1234567890;Bravo:2345678901;Charlie:3456789012\n"
     ]
    }
   ],
   "source": [
    "from clientserver import Client\n",
    "\n",
    "client = Client()\n",
    "\n",
    "# Use the Auskunft API\n",
    "print(\"Testing GET method:\")\n",
    "client.get(\"Alpha\")\n",
    "\n",
    "print(\"\\nTesting GETALL method:\")\n",
    "client.get_all()\n",
    "\n",
    "client.close()"
   ]
  },
  {
   "cell_type": "markdown",
   "metadata": {},
   "source": [
    "Finished."
   ]
  },
  {
   "cell_type": "code",
   "execution_count": null,
   "outputs": [],
   "source": [],
   "metadata": {
    "collapsed": false
   }
  }
 ],
 "metadata": {
  "kernelspec": {
   "display_name": "Python 3",
   "language": "python",
   "name": "python3"
  },
  "language_info": {
   "codemirror_mode": {
    "name": "ipython",
    "version": 3
   },
   "file_extension": ".py",
   "mimetype": "text/x-python",
   "name": "python",
   "nbconvert_exporter": "python",
   "pygments_lexer": "ipython3",
   "version": "3.7.0"
  }
 },
 "nbformat": 4,
 "nbformat_minor": 2
}
