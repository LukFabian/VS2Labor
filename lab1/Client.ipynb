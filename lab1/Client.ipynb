{
 "cells": [
  {
   "cell_type": "markdown",
   "metadata": {},
   "source": [
    "# Running server and client in separate notebooks - client part\n",
    "\n",
    "Here we start the client. The server needs to be started first. Lets go...."
   ]
  },
  {
   "cell_type": "markdown",
   "source": [
    "Imports the Client class from the clientserver module. This class is designed to interact with the server, allowing us to send requests to retrieve specific entries (GET requests) or all entries (GETALL requests) from a telephone directory managed by the server."
   ],
   "metadata": {
    "collapsed": false
   }
  },
  {
   "cell_type": "code",
   "source": [
    "from clientserver import Client"
   ],
   "metadata": {
    "collapsed": false,
    "ExecuteTime": {
     "end_time": "2024-11-07T13:43:27.047425Z",
     "start_time": "2024-11-07T13:43:27.042028Z"
    }
   },
   "outputs": [],
   "execution_count": 21
  },
  {
   "cell_type": "markdown",
   "source": [
    "Creates an instance of the Client class, which internally sets up a network connection to the server. This connection is established using a socket bound to the server's host and port specified in clientserver."
   ],
   "metadata": {
    "collapsed": false
   }
  },
  {
   "cell_type": "code",
   "metadata": {
    "ExecuteTime": {
     "end_time": "2024-11-07T13:43:30.022641Z",
     "start_time": "2024-11-07T13:43:30.015443Z"
    }
   },
   "source": [
    "client = Client()"
   ],
   "outputs": [
    {
     "name": "stderr",
     "output_type": "stream",
     "text": [
      "2024-11-07 14:43:30,018 - vs2lab.a1_layers.clientserver.Client - INFO - Client connected to socket <socket.socket fd=57, family=2, type=1, proto=0, laddr=('127.0.0.1', 50104), raddr=('127.0.0.1', 50007)>\n"
     ]
    }
   ],
   "execution_count": 22
  },
  {
   "cell_type": "markdown",
   "source": [
    "Calls the get method of the Client instance to retrieve the telephone directory entry for \"Alpha\". The client sends a GET request to the server with the name \"Alpha\", and the server responds with the associated phone number or a \"NOT FOUND\" message if the entry does not exist."
   ],
   "metadata": {
    "collapsed": false
   }
  },
  {
   "cell_type": "code",
   "source": [
    "client.get(\"Alpha\")"
   ],
   "metadata": {
    "collapsed": false,
    "ExecuteTime": {
     "end_time": "2024-11-07T13:43:42.057620Z",
     "start_time": "2024-11-07T13:43:42.049739Z"
    }
   },
   "outputs": [
    {
     "name": "stdout",
     "output_type": "stream",
     "text": [
      "Alpha:1234567890\n"
     ]
    },
    {
     "data": {
      "text/plain": [
       "'Alpha:1234567890'"
      ]
     },
     "execution_count": 23,
     "metadata": {},
     "output_type": "execute_result"
    }
   ],
   "execution_count": 23
  },
  {
   "cell_type": "markdown",
   "source": [
    "Calls the get_all method of the Client instance to retrieve all entries in the directory. The client sends a GETALL request to the server, and the server responds with a concatenated list of all entries in the name:phone format. If the directory is empty, the server responds with \"EMPTY\"."
   ],
   "metadata": {
    "collapsed": false
   }
  },
  {
   "cell_type": "code",
   "source": [
    "client.get_all()"
   ],
   "metadata": {
    "collapsed": false,
    "ExecuteTime": {
     "end_time": "2024-11-07T13:43:47.606034Z",
     "start_time": "2024-11-07T13:43:47.597536Z"
    }
   },
   "outputs": [
    {
     "name": "stdout",
     "output_type": "stream",
     "text": [
      "Alpha:1234567890;Bravo:2345678901;Charlie:3456789012;Ölaf:3456789012\n"
     ]
    },
    {
     "data": {
      "text/plain": [
       "'Alpha:1234567890;Bravo:2345678901;Charlie:3456789012;Ölaf:3456789012'"
      ]
     },
     "execution_count": 24,
     "metadata": {},
     "output_type": "execute_result"
    }
   ],
   "execution_count": 24
  },
  {
   "cell_type": "markdown",
   "source": [
    "Closes the network connection to the server by shutting down the socket. This ensures that resources are released and the client no longer listens or sends requests to the server."
   ],
   "metadata": {
    "collapsed": false
   }
  },
  {
   "cell_type": "code",
   "source": [
    "client.close()"
   ],
   "metadata": {
    "collapsed": false,
    "ExecuteTime": {
     "end_time": "2024-11-07T13:43:51.482676Z",
     "start_time": "2024-11-07T13:43:51.473590Z"
    }
   },
   "outputs": [
    {
     "name": "stderr",
     "output_type": "stream",
     "text": [
      "2024-11-07 14:43:51,478 - vs2lab.a1_layers.clientserver.Client - INFO - Client down.\n"
     ]
    }
   ],
   "execution_count": 25
  },
  {
   "cell_type": "markdown",
   "metadata": {},
   "source": [
    "Finished."
   ]
  }
 ],
 "metadata": {
  "kernelspec": {
   "display_name": "Python 3",
   "language": "python",
   "name": "python3"
  },
  "language_info": {
   "codemirror_mode": {
    "name": "ipython",
    "version": 3
   },
   "file_extension": ".py",
   "mimetype": "text/x-python",
   "name": "python",
   "nbconvert_exporter": "python",
   "pygments_lexer": "ipython3",
   "version": "3.7.0"
  }
 },
 "nbformat": 4,
 "nbformat_minor": 2
}
